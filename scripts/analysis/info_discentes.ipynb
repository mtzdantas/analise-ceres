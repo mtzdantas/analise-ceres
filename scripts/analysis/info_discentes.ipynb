{
 "cells": [
  {
   "cell_type": "markdown",
   "id": "db93e5b1",
   "metadata": {},
   "source": [
    "### Análises e Gráficos de informações pessoais de Discentes"
   ]
  },
  {
   "cell_type": "code",
   "execution_count": 2,
   "id": "bf6d929a",
   "metadata": {},
   "outputs": [],
   "source": [
    "import pandas as pd\n",
    "import matplotlib.pyplot as plt\n",
    "import numpy as np"
   ]
  },
  {
   "cell_type": "code",
   "execution_count": 3,
   "id": "de71d448",
   "metadata": {},
   "outputs": [],
   "source": [
    "discentes_info = pd.read_csv('../../data/processed/discentes_info.csv')"
   ]
  },
  {
   "cell_type": "code",
   "execution_count": 4,
   "id": "c95aff5f",
   "metadata": {},
   "outputs": [
    {
     "data": {
      "text/html": [
       "<div>\n",
       "<style scoped>\n",
       "    .dataframe tbody tr th:only-of-type {\n",
       "        vertical-align: middle;\n",
       "    }\n",
       "\n",
       "    .dataframe tbody tr th {\n",
       "        vertical-align: top;\n",
       "    }\n",
       "\n",
       "    .dataframe thead th {\n",
       "        text-align: right;\n",
       "    }\n",
       "</style>\n",
       "<table border=\"1\" class=\"dataframe\">\n",
       "  <thead>\n",
       "    <tr style=\"text-align: right;\">\n",
       "      <th></th>\n",
       "      <th>sexo</th>\n",
       "      <th>raca</th>\n",
       "      <th>municipio</th>\n",
       "      <th>curso</th>\n",
       "      <th>ano_ingresso</th>\n",
       "    </tr>\n",
       "  </thead>\n",
       "  <tbody>\n",
       "    <tr>\n",
       "      <th>0</th>\n",
       "      <td>M</td>\n",
       "      <td>Branco</td>\n",
       "      <td>NATAL</td>\n",
       "      <td>SISTEMAS DE INFORMAÇÃO</td>\n",
       "      <td>2009</td>\n",
       "    </tr>\n",
       "    <tr>\n",
       "      <th>1</th>\n",
       "      <td>M</td>\n",
       "      <td>Não Informado</td>\n",
       "      <td>CAICÓ</td>\n",
       "      <td>SISTEMAS DE INFORMAÇÃO</td>\n",
       "      <td>2009</td>\n",
       "    </tr>\n",
       "    <tr>\n",
       "      <th>2</th>\n",
       "      <td>M</td>\n",
       "      <td>Não Informado</td>\n",
       "      <td>CAICÓ</td>\n",
       "      <td>SISTEMAS DE INFORMAÇÃO</td>\n",
       "      <td>2009</td>\n",
       "    </tr>\n",
       "    <tr>\n",
       "      <th>3</th>\n",
       "      <td>M</td>\n",
       "      <td>Branco</td>\n",
       "      <td>CAICÓ</td>\n",
       "      <td>SISTEMAS DE INFORMAÇÃO</td>\n",
       "      <td>2009</td>\n",
       "    </tr>\n",
       "    <tr>\n",
       "      <th>4</th>\n",
       "      <td>M</td>\n",
       "      <td>Branco</td>\n",
       "      <td>CAICÓ</td>\n",
       "      <td>SISTEMAS DE INFORMAÇÃO</td>\n",
       "      <td>2009</td>\n",
       "    </tr>\n",
       "    <tr>\n",
       "      <th>...</th>\n",
       "      <td>...</td>\n",
       "      <td>...</td>\n",
       "      <td>...</td>\n",
       "      <td>...</td>\n",
       "      <td>...</td>\n",
       "    </tr>\n",
       "    <tr>\n",
       "      <th>847</th>\n",
       "      <td>M</td>\n",
       "      <td>Pardo</td>\n",
       "      <td>CAICÓ</td>\n",
       "      <td>SISTEMAS DE INFORMAÇÃO</td>\n",
       "      <td>2025</td>\n",
       "    </tr>\n",
       "    <tr>\n",
       "      <th>848</th>\n",
       "      <td>M</td>\n",
       "      <td>Branco</td>\n",
       "      <td>CAICÓ</td>\n",
       "      <td>SISTEMAS DE INFORMAÇÃO</td>\n",
       "      <td>2025</td>\n",
       "    </tr>\n",
       "    <tr>\n",
       "      <th>849</th>\n",
       "      <td>M</td>\n",
       "      <td>Branco</td>\n",
       "      <td>NATAL</td>\n",
       "      <td>SISTEMAS DE INFORMAÇÃO</td>\n",
       "      <td>2025</td>\n",
       "    </tr>\n",
       "    <tr>\n",
       "      <th>850</th>\n",
       "      <td>M</td>\n",
       "      <td>Pardo</td>\n",
       "      <td>NATAL</td>\n",
       "      <td>SISTEMAS DE INFORMAÇÃO</td>\n",
       "      <td>2025</td>\n",
       "    </tr>\n",
       "    <tr>\n",
       "      <th>851</th>\n",
       "      <td>F</td>\n",
       "      <td>Branco</td>\n",
       "      <td>CAICÓ</td>\n",
       "      <td>SISTEMAS DE INFORMAÇÃO</td>\n",
       "      <td>2010</td>\n",
       "    </tr>\n",
       "  </tbody>\n",
       "</table>\n",
       "<p>852 rows × 5 columns</p>\n",
       "</div>"
      ],
      "text/plain": [
       "    sexo           raca municipio                   curso  ano_ingresso\n",
       "0      M         Branco     NATAL  SISTEMAS DE INFORMAÇÃO          2009\n",
       "1      M  Não Informado     CAICÓ  SISTEMAS DE INFORMAÇÃO          2009\n",
       "2      M  Não Informado     CAICÓ  SISTEMAS DE INFORMAÇÃO          2009\n",
       "3      M         Branco     CAICÓ  SISTEMAS DE INFORMAÇÃO          2009\n",
       "4      M         Branco     CAICÓ  SISTEMAS DE INFORMAÇÃO          2009\n",
       "..   ...            ...       ...                     ...           ...\n",
       "847    M          Pardo     CAICÓ  SISTEMAS DE INFORMAÇÃO          2025\n",
       "848    M         Branco     CAICÓ  SISTEMAS DE INFORMAÇÃO          2025\n",
       "849    M         Branco     NATAL  SISTEMAS DE INFORMAÇÃO          2025\n",
       "850    M          Pardo     NATAL  SISTEMAS DE INFORMAÇÃO          2025\n",
       "851    F         Branco     CAICÓ  SISTEMAS DE INFORMAÇÃO          2010\n",
       "\n",
       "[852 rows x 5 columns]"
      ]
     },
     "execution_count": 4,
     "metadata": {},
     "output_type": "execute_result"
    }
   ],
   "source": [
    "discentes_info"
   ]
  },
  {
   "cell_type": "code",
   "execution_count": null,
   "id": "043d41eb",
   "metadata": {},
   "outputs": [],
   "source": [
    "# Função para criar gráfico de pizza\n",
    "def grafico_pizza(df_counts, coluna_cat, coluna_count, titulo, cores=None, explode_val=0.01, figsize=(7,7)):\n",
    "    if cores is None:\n",
    "        import matplotlib.cm as cm\n",
    "        cores = cm.Pastel1.colors\n",
    "    \n",
    "    explode = [explode_val] * len(df_counts)\n",
    "\n",
    "    def format_label(pct, allvals):\n",
    "        total = sum(allvals)\n",
    "        valor_absoluto = int(round(pct * total / 100.0))\n",
    "        return f\"{pct:.1f}%\\n({valor_absoluto})\"\n",
    "    \n",
    "    plt.figure(figsize=figsize)\n",
    "    plt.pie(\n",
    "        df_counts[coluna_count],\n",
    "        labels=df_counts[coluna_cat],\n",
    "        autopct=lambda pct: format_label(pct, df_counts[coluna_count]),\n",
    "        startangle=90,\n",
    "        colors=cores[:len(df_counts)],\n",
    "        explode=explode,\n",
    "        wedgeprops={'edgecolor': 'white'}\n",
    "    )\n",
    "    plt.title(titulo, fontsize=14)\n",
    "    plt.axis('equal')\n",
    "    plt.tight_layout()\n",
    "    plt.show()"
   ]
  },
  {
   "cell_type": "code",
   "execution_count": null,
   "id": "66eff559",
   "metadata": {},
   "outputs": [],
   "source": [
    "# Visualizando a distribuição de discentes por sexo\n",
    "df_sexos = discentes_info['sexo'].value_counts().reset_index()\n",
    "df_sexos"
   ]
  },
  {
   "cell_type": "code",
   "execution_count": null,
   "id": "0166e45e",
   "metadata": {},
   "outputs": [],
   "source": [
    "# Gerando o gráfico de pizza\n",
    "grafico_pizza(df_sexos, 'sexo', 'count', 'Distribuição por Sexo dos Discentes')"
   ]
  },
  {
   "cell_type": "code",
   "execution_count": null,
   "id": "ae4f5987",
   "metadata": {},
   "outputs": [],
   "source": [
    "# Visualizando a distribuição de discentes por raça\n",
    "df_raca = discentes_info['raca'].value_counts().reset_index()\n",
    "df_raca"
   ]
  },
  {
   "cell_type": "code",
   "execution_count": null,
   "id": "442a7620",
   "metadata": {},
   "outputs": [],
   "source": [
    "# Gerando o gráfico de barras\n",
    "plt.figure(figsize=(8, 5))\n",
    "plt.bar(df_raca['raca'], df_raca['count'], color='darkblue')\n",
    "\n",
    "plt.title('Distribuição dos Discentes por Raça', fontsize=14)\n",
    "plt.xlabel('Raça')\n",
    "plt.ylabel('Quantidade de Discentes')\n",
    "\n",
    "for i, valor in enumerate(df_raca['count']):\n",
    "    plt.text(i, valor + 3, str(valor), ha='center')\n",
    "\n",
    "plt.tight_layout()\n",
    "plt.show()"
   ]
  },
  {
   "cell_type": "code",
   "execution_count": null,
   "id": "f3484184",
   "metadata": {},
   "outputs": [],
   "source": [
    "# Visualizando a distribuição de discentes por município\n",
    "df_municipios = discentes_info['municipio'].value_counts().reset_index().head(5)\n",
    "df_municipios"
   ]
  },
  {
   "cell_type": "code",
   "execution_count": null,
   "id": "ce69ba46",
   "metadata": {},
   "outputs": [],
   "source": [
    "# Gerando o gráfico de pizza\n",
    "grafico_pizza(df_municipios, 'municipio', 'count', 'Top 5 Municípios dos Discentes')"
   ]
  },
  {
   "cell_type": "code",
   "execution_count": null,
   "id": "3ea7e5c9",
   "metadata": {},
   "outputs": [],
   "source": [
    "# Visualizando a distribuição de discentes por ano de ingresso\n",
    "df_ano_ingresso = discentes_info['ano_ingresso'].value_counts().reset_index().sort_values(by='ano_ingresso')\n",
    "df_ano_ingresso"
   ]
  },
  {
   "cell_type": "code",
   "execution_count": null,
   "id": "d8eacf40",
   "metadata": {},
   "outputs": [],
   "source": [
    "# Gerando o gráfico de linha\n",
    "plt.figure(figsize=(10, 6))\n",
    "plt.plot(df_ano_ingresso['ano_ingresso'], df_ano_ingresso['count'], marker='o', linestyle='-', color='mediumblue')\n",
    "\n",
    "plt.title('Quantidade de Discentes por Ano de Ingresso', fontsize=16)\n",
    "plt.xlabel('Ano de Ingresso')\n",
    "plt.ylabel('Quantidade de Discentes')\n",
    "plt.grid(True, linestyle='--', alpha=0.6)\n",
    "\n",
    "plt.ylim(35, 60)\n",
    "\n",
    "anos = np.arange(df_ano_ingresso['ano_ingresso'].min(), df_ano_ingresso['ano_ingresso'].max() + 1, 1)\n",
    "plt.xticks(anos, rotation=45)\n",
    "\n",
    "for x, y in zip(df_ano_ingresso['ano_ingresso'], df_ano_ingresso['count']):\n",
    "    plt.text(x, y + 1.5, str(y), ha='center')\n",
    "\n",
    "plt.tight_layout()\n",
    "plt.show()"
   ]
  }
 ],
 "metadata": {
  "kernelspec": {
   "display_name": "base",
   "language": "python",
   "name": "python3"
  },
  "language_info": {
   "codemirror_mode": {
    "name": "ipython",
    "version": 3
   },
   "file_extension": ".py",
   "mimetype": "text/x-python",
   "name": "python",
   "nbconvert_exporter": "python",
   "pygments_lexer": "ipython3",
   "version": "3.9.13"
  }
 },
 "nbformat": 4,
 "nbformat_minor": 5
}
